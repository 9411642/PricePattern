{
 "cells": [
  {
   "cell_type": "code",
   "execution_count": 11,
   "metadata": {
    "collapsed": true
   },
   "outputs": [
    {
     "name": "stdout",
     "output_type": "stream",
     "text": [
      "<item c=\"143\" d=\"20151231\" h=\"144\" l=\"141\" o=\"142\" v=\"18678\"></item>\n"
     ]
    }
   ],
   "source": [
    "import requests\n",
    "from bs4 import BeautifulSoup\n",
    "from datetime import date\n",
    "\n",
    "server = \"203.67.19.12\"\n",
    "stkid = \"2330.TW\"\n",
    "startdate = date(2014, 1, 1)\n",
    "enddate = date(2015, 12, 31)\n",
    "# gethistdata.aspx?SID=2330.TW&ST=1&a=8&b=20140101&d=20151231\n",
    "url = 'http://%s/jddbxml/gethistdata.aspx?SID=%s&ST=1&a=8&b=%s&d=%s' % (server, stkid, startdate.strftime(\"%Y%m%d\"), enddate.strftime(\"%Y%m%d\"))\n",
    "res = requests.get(url)\n",
    "soup = BeautifulSoup(res.text)\n",
    "items = soup.select(\"item\")\n",
    "print(items[0])\n",
    "# data = [float(x['c']) for x in items]\n",
    "# print(data)"
   ]
  }
 ],
 "metadata": {
  "kernelspec": {
   "display_name": "Python 2",
   "language": "python",
   "name": "python2"
  },
  "language_info": {
   "codemirror_mode": {
    "name": "ipython",
    "version": 2.0
   },
   "file_extension": ".py",
   "mimetype": "text/x-python",
   "name": "python",
   "nbconvert_exporter": "python",
   "pygments_lexer": "ipython2",
   "version": "2.7.6"
  }
 },
 "nbformat": 4,
 "nbformat_minor": 0
}